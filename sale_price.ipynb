{
  "nbformat": 4,
  "nbformat_minor": 0,
  "metadata": {
    "colab": {
      "name": "sale_price.ipynb",
      "provenance": [],
      "include_colab_link": true
    },
    "kernelspec": {
      "name": "python3",
      "display_name": "Python 3"
    },
    "language_info": {
      "name": "python"
    }
  },
  "cells": [
    {
      "cell_type": "markdown",
      "metadata": {
        "id": "view-in-github",
        "colab_type": "text"
      },
      "source": [
        "<a href=\"https://colab.research.google.com/github/ArjanMallik/ISYS_2001_week4/blob/main/sale_price.ipynb\" target=\"_parent\"><img src=\"https://colab.research.google.com/assets/colab-badge.svg\" alt=\"Open In Colab\"/></a>"
      ]
    },
    {
      "cell_type": "markdown",
      "metadata": {
        "id": "cgTeiXOtSPjH"
      },
      "source": [
        "# Sales Price\n",
        "\n",
        "A local department store needs to develop a program that will computer the total price (including goods and services tax) of the item on sale when given an item's original price and discount percentage.\n",
        "\n",
        "## Tasks\n",
        "* Save to Github\n",
        "* Design Algorithm\n",
        "* Write and test the program in Python"
      ]
    },
    {
      "cell_type": "code",
      "metadata": {
        "id": "pPIN2ZcrSqdw",
        "colab": {
          "base_uri": "https://localhost:8080/"
        },
        "outputId": "69fa247d-cfc9-48e7-9599-659f6d9afa6a"
      },
      "source": [
        "def calculate_total_price(original_price, discount_percentage, tax_rate):\n",
        "    discount_amount = original_price * (discount_percentage / 100)\n",
        "    discounted_price = original_price - discount_amount\n",
        "    tax_amount = discounted_price * (tax_rate / 100)\n",
        "    total_price = discounted_price + tax_amount\n",
        "    return total_price\n",
        "\n",
        "def main():\n",
        "    original_price = float(input(\"Enter the original price of the item: $\"))\n",
        "    discount_percentage = float(input(\"Enter the discount percentage: \"))\n",
        "    tax_rate = float(input(\"Enter the tax rate (in percentage): \"))\n",
        "\n",
        "    total_price = calculate_total_price(original_price, discount_percentage, tax_rate)\n",
        "\n",
        "    print(f\"The total price of the item after discount and tax is: ${total_price:.2f}\")\n",
        "\n",
        "if __name__ == \"__main__\":\n",
        "    main()\n"
      ],
      "execution_count": 1,
      "outputs": [
        {
          "output_type": "stream",
          "name": "stdout",
          "text": [
            "Enter the original price of the item: $1000\n",
            "Enter the discount percentage: 10\n",
            "Enter the tax rate (in percentage): 40\n",
            "The total price of the item after discount and tax is: $1260.00\n"
          ]
        }
      ]
    },
    {
      "cell_type": "code",
      "source": [
        "help(calculate_total_price)"
      ],
      "metadata": {
        "id": "-MYZ3jtRP4aH",
        "outputId": "2d3f76e7-ec8a-4b90-da27-296e80c7c688",
        "colab": {
          "base_uri": "https://localhost:8080/"
        }
      },
      "execution_count": 4,
      "outputs": [
        {
          "output_type": "stream",
          "name": "stdout",
          "text": [
            "Help on function calculate_total_price in module __main__:\n",
            "\n",
            "calculate_total_price(original_price, discount_percentage, tax_rate)\n",
            "\n"
          ]
        }
      ]
    },
    {
      "cell_type": "code",
      "source": [],
      "metadata": {
        "id": "5eG08_q_P6q5"
      },
      "execution_count": null,
      "outputs": []
    }
  ]
}
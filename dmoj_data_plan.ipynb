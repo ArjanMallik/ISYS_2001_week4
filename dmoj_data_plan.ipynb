{
  "nbformat": 4,
  "nbformat_minor": 0,
  "metadata": {
    "colab": {
      "provenance": [],
      "authorship_tag": "ABX9TyP5ThhHOPr6Nr6BM1eNei+u",
      "include_colab_link": true
    },
    "kernelspec": {
      "name": "python3",
      "display_name": "Python 3"
    },
    "language_info": {
      "name": "python"
    }
  },
  "cells": [
    {
      "cell_type": "markdown",
      "metadata": {
        "id": "view-in-github",
        "colab_type": "text"
      },
      "source": [
        "<a href=\"https://colab.research.google.com/github/ArjanMallik/ISYS_2001_week4/blob/main/dmoj_data_plan.ipynb\" target=\"_parent\"><img src=\"https://colab.research.google.com/assets/colab-badge.svg\" alt=\"Open In Colab\"/></a>"
      ]
    },
    {
      "cell_type": "code",
      "execution_count": 5,
      "metadata": {
        "colab": {
          "base_uri": "https://localhost:8080/"
        },
        "id": "pl4mXHR0JI6c",
        "outputId": "6552c070-0aeb-413c-e564-d8cfe2020156"
      },
      "outputs": [
        {
          "output_type": "stream",
          "name": "stdout",
          "text": [
            "10\n",
            "3\n",
            "4\n",
            "6\n",
            "2\n",
            "28\n"
          ]
        }
      ],
      "source": [
        "mb = int(input())\n",
        "excess = 0\n",
        "months = int(input())\n",
        "for m in range(months):\n",
        "  usage = int(input())\n",
        "  excess = excess + mb - usage\n",
        "\n",
        "print(excess + mb)\n"
      ]
    }
  ]
}
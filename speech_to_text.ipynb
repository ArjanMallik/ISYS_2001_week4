{
  "nbformat": 4,
  "nbformat_minor": 0,
  "metadata": {
    "colab": {
      "name": "speech_to_text.ipynb",
      "provenance": [],
      "include_colab_link": true
    },
    "kernelspec": {
      "name": "python3",
      "display_name": "Python 3"
    },
    "language_info": {
      "name": "python"
    }
  },
  "cells": [
    {
      "cell_type": "markdown",
      "metadata": {
        "id": "view-in-github",
        "colab_type": "text"
      },
      "source": [
        "<a href=\"https://colab.research.google.com/github/ArjanMallik/ISYS_2001_week4/blob/main/speech_to_text.ipynb\" target=\"_parent\"><img src=\"https://colab.research.google.com/assets/colab-badge.svg\" alt=\"Open In Colab\"/></a>"
      ]
    },
    {
      "cell_type": "markdown",
      "source": [
        "# Speech to Text\n",
        "\n",
        "Part of your job is to produce a weekly summary (an intelligence report) of what is happening in your field. Sources of content include\n",
        "* Social Media\n",
        "* Webpages\n",
        "* YouTube\n",
        "* Podcasts\n",
        "* Blog posts\n",
        "* Reports\n",
        "* Articles\n",
        "\n",
        "I am sure you can think of many more. It would be great if we could write a program to create this report.\n",
        "\n",
        "There is a lot to do here. Gather the data, summarise the data and collate it into a document. How do we process video or a podcast? How can I get data from a webpage or a database? How can I summarise this data? Can I save the data as an excel spreadsheet or word document?\n",
        "\n",
        "A good strategy would be not to solve it all at once. Can we easily break it down into a few more straightforward problems? If we can solve and combine in the right way the simple issues, we should be able to solve the bigger problem. This approach of breaking a problem into subsystems is known as top-down design or programming. We look more closely at this approach in later modules.  \n",
        "\n",
        "Our general approach will be to take a source of content and convert that content into text. If needed, summarise the text and append it to our report. Then tidy up the information and submit it to our boss. Except for the last step, most of these steps can be done by a computer.\n",
        "\n",
        "Today, we will focus on how to convert an audio source into text. The audio source could be a podcast, a video or some other recording. We are going to convert speech to text. If you want to know more, have a look at [The Ultimate Guide to Speech Recognition With Python](https://realpython.com/python-speech-recognition/)\n",
        "\n",
        "## Tasks\n",
        "* Import into GitHub\n",
        "* Write a program to convert speech to text\n",
        "* regularly save to GitHub with a commit message"
      ],
      "metadata": {
        "id": "WTD7HkIDMXsH"
      }
    },
    {
      "cell_type": "code",
      "source": [
        "#perplexity suggested to install this module\n",
        "\n",
        "!pip install SpeechRecognition\n",
        "\n",
        "!wget https://www.pacdv.com/sounds/voices/maybe-next-time.wav"
      ],
      "metadata": {
        "id": "jpmIwK03SKOr",
        "outputId": "cd3fcc38-ae63-4507-efa3-33f8fdbe81a7",
        "colab": {
          "base_uri": "https://localhost:8080/"
        }
      },
      "execution_count": 11,
      "outputs": [
        {
          "output_type": "stream",
          "name": "stdout",
          "text": [
            "Requirement already satisfied: SpeechRecognition in /usr/local/lib/python3.10/dist-packages (3.10.3)\n",
            "Requirement already satisfied: requests>=2.26.0 in /usr/local/lib/python3.10/dist-packages (from SpeechRecognition) (2.31.0)\n",
            "Requirement already satisfied: typing-extensions in /usr/local/lib/python3.10/dist-packages (from SpeechRecognition) (4.10.0)\n",
            "Requirement already satisfied: charset-normalizer<4,>=2 in /usr/local/lib/python3.10/dist-packages (from requests>=2.26.0->SpeechRecognition) (3.3.2)\n",
            "Requirement already satisfied: idna<4,>=2.5 in /usr/local/lib/python3.10/dist-packages (from requests>=2.26.0->SpeechRecognition) (3.6)\n",
            "Requirement already satisfied: urllib3<3,>=1.21.1 in /usr/local/lib/python3.10/dist-packages (from requests>=2.26.0->SpeechRecognition) (2.0.7)\n",
            "Requirement already satisfied: certifi>=2017.4.17 in /usr/local/lib/python3.10/dist-packages (from requests>=2.26.0->SpeechRecognition) (2024.2.2)\n",
            "--2024-03-30 19:50:38--  https://www.pacdv.com/sounds/voices/maybe-next-time.wav\n",
            "Resolving www.pacdv.com (www.pacdv.com)... 192.163.208.117\n",
            "Connecting to www.pacdv.com (www.pacdv.com)|192.163.208.117|:443... connected.\n",
            "HTTP request sent, awaiting response... 200 OK\n",
            "Length: 141336 (138K) [audio/x-wav]\n",
            "Saving to: ‘maybe-next-time.wav.1’\n",
            "\n",
            "maybe-next-time.wav 100%[===================>] 138.02K  --.-KB/s    in 0.1s    \n",
            "\n",
            "2024-03-30 19:50:38 (1.30 MB/s) - ‘maybe-next-time.wav.1’ saved [141336/141336]\n",
            "\n"
          ]
        }
      ]
    },
    {
      "cell_type": "code",
      "source": [
        "import speech_recognition as sr\n",
        "#Comments were added by AI see [1] for conversation\n",
        "# Check the version of the SpeechRecognition library\n",
        "print(sr.__version__)\n",
        "\n",
        "# Initialize the recognizer\n",
        "r = sr.Recognizer()\n",
        "\n",
        "# Initialize the variable to store the recognized text\n",
        "text = None\n",
        "\n",
        "# Specify the filename of the audio file\n",
        "filename = '/content/maybe-next-time.wav'\n",
        "\n",
        "# Open the audio file and extract the audio data\n",
        "with sr.AudioFile(filename) as source:\n",
        "    audio_data = r.record(source)\n",
        "\n",
        "    # Recognize speech from the audio data\n",
        "    text = r.recognize_google(audio_data)\n",
        "\n",
        "# Print the recognized text\n",
        "print(text)\n",
        "\n",
        "# Specify the output file name\n",
        "output_file = 'text_from_speech.txt'\n",
        "\n",
        "# Write the recognized text to a file\n",
        "with open(output_file, 'w') as f:\n",
        "    f.write(text)\n"
      ],
      "metadata": {
        "id": "2ncTDNyL2KdU",
        "outputId": "5c3771e8-f87d-48d4-8d34-a7f2622b866e",
        "colab": {
          "base_uri": "https://localhost:8080/"
        }
      },
      "execution_count": 12,
      "outputs": [
        {
          "output_type": "stream",
          "name": "stdout",
          "text": [
            "maybe next time\n"
          ]
        }
      ]
    },
    {
      "cell_type": "markdown",
      "source": [
        "#REFERENCES\n",
        "\n",
        "[1] Conversation from ChatGPT\n",
        "User\n",
        "plese put comments where appropriate\n",
        "ChatGPT\n",
        "Of course! Please provide the text you'd like me to add comments to, and I'll be happy to assist you by inserting comments where appropriate.\n",
        "\n",
        "User\n",
        "import speech_recognition as sr\n",
        "sr.__version__\n",
        "\n",
        "r = sr.Recognizer()\n",
        "\n",
        "text = None\n",
        "filename = '/content/maybe-next-time.wav'\n",
        "with sr.AudioFile(filename) as source:\n",
        " audio_data = r.record(source)\n",
        " text = r.recognize_google(audio_data)\n",
        "\n",
        "print(text)\n",
        "\n",
        "output_file = 'text_from_speech.txt'\n",
        "\n",
        "with open(output_file, 'w') as f:\n",
        "  f.write(text)\n",
        "ChatGPT\n",
        "Sure, here's your code with comments added:\n",
        "\n",
        "python\n",
        "Copy code\n",
        "import speech_recognition as sr\n",
        "\n",
        "# Check the version of the SpeechRecognition library\n",
        "print(sr.__version__)\n",
        "\n",
        "# Initialize the recognizer\n",
        "r = sr.Recognizer()\n",
        "\n",
        "# Initialize the variable to store the recognized text\n",
        "text = None\n",
        "\n",
        "# Specify the filename of the audio file\n",
        "filename = '/content/maybe-next-time.wav'\n",
        "\n",
        "# Open the audio file and extract the audio data\n",
        "with sr.AudioFile(filename) as source:\n",
        "    audio_data = r.record(source)\n",
        "\n",
        "    # Recognize speech from the audio data\n",
        "    text = r.recognize_google(audio_data)\n",
        "\n",
        "# Print the recognized text\n",
        "print(text)\n",
        "\n",
        "# Specify the output file name\n",
        "output_file = 'text_from_speech.txt'\n",
        "\n",
        "# Write the recognized text to a file\n",
        "with open(output_file, 'w') as f:\n",
        "    f.write(text)\n",
        "I've added comments to explain each part of the code and what it does. Let me know if you need further clarification on any section!"
      ],
      "metadata": {
        "id": "Z24U6YHb7zHb"
      }
    }
  ]
}